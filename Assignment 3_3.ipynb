{
 "cells": [
  {
   "cell_type": "code",
   "execution_count": 19,
   "metadata": {},
   "outputs": [
    {
     "name": "stdout",
     "output_type": "stream",
     "text": [
      "Longest word in \"Quick brown fox jumped over the lazy dog\" is - JUMPED.\n"
     ]
    }
   ],
   "source": [
    "#Course: Data Science Masters\n",
    "#Title: Python - Assignment 3.3\n",
    "#Problem Statement: Program to implement a function longestWord() that takes a list of words and returns the longest one.\n",
    "#Tool: Jupyter notebook \n",
    "#Author: Krishna A\n",
    "#Date: 19-2-2018 (DD/MM/YYYY)\n",
    "\n",
    "def LongestWord(sStringList):\n",
    "    sLongestWord = \"\"\n",
    "    iPrevLen = 0\n",
    "    for sWord in sStringList:\n",
    "        iLen = len(sWord);\n",
    "        if(iLen>iPrevLen):\n",
    "            sLongestWord = sWord\n",
    "            iPrevLen = iLen\n",
    "    return sLongestWord.upper()\n",
    "\n",
    "sString = \"Quick brown fox jumped over the lazy dog\"\n",
    "print(\"Longest word in \\\"%s\\\" is - %s.\" % (sString, LongestWord(sString.split(\" \"))))"
   ]
  },
  {
   "cell_type": "code",
   "execution_count": null,
   "metadata": {
    "collapsed": true
   },
   "outputs": [],
   "source": []
  }
 ],
 "metadata": {
  "kernelspec": {
   "display_name": "Python 3",
   "language": "python",
   "name": "python3"
  },
  "language_info": {
   "codemirror_mode": {
    "name": "ipython",
    "version": 3
   },
   "file_extension": ".py",
   "mimetype": "text/x-python",
   "name": "python",
   "nbconvert_exporter": "python",
   "pygments_lexer": "ipython3",
   "version": "3.6.3"
  }
 },
 "nbformat": 4,
 "nbformat_minor": 2
}
